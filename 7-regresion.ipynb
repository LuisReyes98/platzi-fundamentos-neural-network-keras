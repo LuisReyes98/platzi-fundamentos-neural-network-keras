{
 "cells": [
  {
   "cell_type": "markdown",
   "metadata": {},
   "source": [
    "# Resolviendo un problema de regresión"
   ]
  },
  {
   "cell_type": "code",
   "execution_count": 28,
   "metadata": {},
   "outputs": [],
   "source": [
    "import numpy as np\n",
    "import pandas as pd\n",
    "from tensorflow.keras.datasets import boston_housing\n",
    "from tensorflow.keras import optimizers, layers, models\n"
   ]
  },
  {
   "cell_type": "code",
   "execution_count": 2,
   "metadata": {},
   "outputs": [],
   "source": [
    "(train_data, train_labels), (test_data, test_labels) = boston_housing.load_data()\n"
   ]
  },
  {
   "cell_type": "code",
   "execution_count": 3,
   "metadata": {},
   "outputs": [
    {
     "data": {
      "text/plain": [
       "(404, 13)"
      ]
     },
     "execution_count": 3,
     "metadata": {},
     "output_type": "execute_result"
    }
   ],
   "source": [
    "train_data.shape\n"
   ]
  },
  {
   "cell_type": "code",
   "execution_count": 4,
   "metadata": {},
   "outputs": [
    {
     "name": "stdout",
     "output_type": "stream",
     "text": [
      "[  1.23247   0.        8.14      0.        0.538     6.142    91.7\n",
      "   3.9769    4.      307.       21.      396.9      18.72   ]\n",
      "15.2\n"
     ]
    }
   ],
   "source": [
    "\"\"\"\n",
    "Los datos tienen una diferencia numerica entre ellos muy grande unos\n",
    "396.9 y otros 0.539 , esto es por que quizas una diferencia de 100 en el sueldo no es mucho pero una diferencia de 5 en la edad es bastante\n",
    "\n",
    "por lo cual para evitar que la red le de mayor importancia a los valores mas altos debemos Normalizar los datos\n",
    "\"\"\"\n",
    "print(train_data[0])\n",
    "print(train_labels[0])\n"
   ]
  },
  {
   "cell_type": "code",
   "execution_count": 5,
   "metadata": {},
   "outputs": [],
   "source": [
    "# normalizando los datos\n",
    "\n",
    "# les restamos la media\n",
    "mean = train_data.mean(axis=0)\n",
    "train_data = train_data - mean\n",
    "\n",
    "# y dividimos entre la desviacion estandar\n",
    "std = train_data.std(axis=0)\n",
    "train_data = train_data / std\n",
    "\n",
    "# de esta forma normalizamos todos los datos para que esten entre 0 y 1\n",
    "\n",
    "\"\"\"\n",
    "usamos el mismo valor de train y std de train\n",
    "para test por razones eticas, yo jamas\n",
    "deberia darle a la data que voy a probar informacion que\n",
    "haga que se comporte diferente a la data con la que  entrene la red\n",
    "\n",
    "por lo cual no debo normalizar con la data de test ya que se supo que al soltar la red en el mundo real esa data no la tengo por lo cual no debo entrenar como si la tuviera\n",
    "\"\"\"\n",
    "test_data = test_data - mean\n",
    "test_data = test_data / std\n"
   ]
  },
  {
   "cell_type": "code",
   "execution_count": 6,
   "metadata": {},
   "outputs": [
    {
     "data": {
      "text/plain": [
       "array([-0.27224633, -0.48361547, -0.43576161, -0.25683275, -0.1652266 ,\n",
       "       -0.1764426 ,  0.81306188,  0.1166983 , -0.62624905, -0.59517003,\n",
       "        1.14850044,  0.44807713,  0.8252202 ])"
      ]
     },
     "execution_count": 6,
     "metadata": {},
     "output_type": "execute_result"
    }
   ],
   "source": [
    "train_data[0]\n"
   ]
  },
  {
   "cell_type": "code",
   "execution_count": 7,
   "metadata": {},
   "outputs": [
    {
     "data": {
      "text/plain": [
       "array([ 1.55369355, -0.48361547,  1.0283258 , -0.25683275,  1.03838067,\n",
       "        0.23545815,  1.11048828, -0.93976936,  1.67588577,  1.5652875 ,\n",
       "        0.78447637, -3.48459553,  2.25092074])"
      ]
     },
     "execution_count": 7,
     "metadata": {},
     "output_type": "execute_result"
    }
   ],
   "source": [
    "test_data[0]\n"
   ]
  },
  {
   "cell_type": "code",
   "execution_count": 33,
   "metadata": {},
   "outputs": [],
   "source": [
    "def build_model_regression(lr_var, input_data):\n",
    "  model = models.Sequential()\n",
    "\n",
    "  model.add(\n",
    "    layers.Dense(\n",
    "      64,\n",
    "      activation='relu',\n",
    "      input_shape=(input_data,)\n",
    "    )\n",
    "  )\n",
    "\n",
    "  model.add(\n",
    "    layers.Dense(\n",
    "      64,\n",
    "      activation='relu'\n",
    "    )\n",
    "  )\n",
    "\n",
    "  model.add(\n",
    "    layers.Dense(1)\n",
    "  )\n",
    "\n",
    "  model.compile(\n",
    "    optimizer=optimizers.RMSprop(\n",
    "      learning_rate=lr_var,\n",
    "    ),\n",
    "    loss='mse',\n",
    "    metrics=['mae']\n",
    "  )\n",
    "\n",
    "  return model\n"
   ]
  },
  {
   "cell_type": "code",
   "execution_count": 18,
   "metadata": {},
   "outputs": [],
   "source": [
    "# 4 set de validacion\n",
    "k = 4\n",
    "num_val_samples = len(train_data) // k\n",
    "num_epochs = 80\n",
    "all_history = []"
   ]
  },
  {
   "cell_type": "markdown",
   "metadata": {},
   "source": [
    "# Entrenamiento del modelo de regresión"
   ]
  },
  {
   "cell_type": "code",
   "execution_count": 16,
   "metadata": {},
   "outputs": [
    {
     "data": {
      "text/plain": [
       "202"
      ]
     },
     "execution_count": 16,
     "metadata": {},
     "output_type": "execute_result"
    }
   ],
   "source": [
    "valor = 2\n",
    "(valor) * num_val_samples"
   ]
  },
  {
   "cell_type": "code",
   "execution_count": 34,
   "metadata": {},
   "outputs": [
    {
     "name": "stdout",
     "output_type": "stream",
     "text": [
      "Fold: 0\n",
      "Fold: 1\n",
      "Fold: 2\n",
      "Fold: 3\n"
     ]
    }
   ],
   "source": [
    "all_history = []\n",
    "for i in range(k):\n",
    "  print(f'Fold: {i}')\n",
    "  val_data = train_data[i*num_val_samples: (i+1)*num_val_samples]\n",
    "  val_targets = train_labels[i*num_val_samples: (i+1)*num_val_samples]\n",
    "  \n",
    "  partial_train_data = np.concatenate(\n",
    "    [\n",
    "      train_data[:i*num_val_samples],\n",
    "      train_data[(i+1)*num_val_samples:]\n",
    "    ],\n",
    "    axis=0\n",
    "  )\n",
    "\n",
    "  partial_train_targets = np.concatenate(\n",
    "      [\n",
    "          train_labels[:i*num_val_samples],\n",
    "          train_labels[(i+1)*num_val_samples:]\n",
    "      ],\n",
    "      axis=0\n",
    "  )\n",
    "\n",
    "  model = build_model_regression(0.001, 13)\n",
    "  history = model.fit(\n",
    "    partial_train_data,\n",
    "    partial_train_targets,\n",
    "    epochs = num_epochs,\n",
    "    batch_size=16,\n",
    "    validation_data=(val_data, val_targets),\n",
    "    verbose = 0\n",
    "  )\n",
    "\n",
    "  all_history.append(history.history['val_mae'])\n"
   ]
  },
  {
   "cell_type": "code",
   "execution_count": 35,
   "metadata": {},
   "outputs": [
    {
     "data": {
      "text/plain": [
       "80"
      ]
     },
     "execution_count": 35,
     "metadata": {},
     "output_type": "execute_result"
    }
   ],
   "source": [
    "len(all_history[0])"
   ]
  },
  {
   "cell_type": "code",
   "execution_count": 37,
   "metadata": {},
   "outputs": [
    {
     "data": {
      "text/plain": [
       "[[18.05282211303711,\n",
       "  13.968994140625,\n",
       "  9.23903751373291,\n",
       "  5.558509826660156,\n",
       "  4.403964042663574,\n",
       "  3.5958962440490723,\n",
       "  3.2926836013793945,\n",
       "  3.250532388687134,\n",
       "  2.997755527496338,\n",
       "  2.79479718208313,\n",
       "  2.623561143875122,\n",
       "  2.591207265853882,\n",
       "  2.5139975547790527,\n",
       "  2.541144371032715,\n",
       "  2.377243757247925,\n",
       "  2.3453686237335205,\n",
       "  2.333740711212158,\n",
       "  2.3488237857818604,\n",
       "  2.238436222076416,\n",
       "  2.3441827297210693,\n",
       "  2.1772780418395996,\n",
       "  2.1808745861053467,\n",
       "  2.0573384761810303,\n",
       "  2.086881637573242,\n",
       "  2.1946604251861572,\n",
       "  2.139536142349243,\n",
       "  2.146677255630493,\n",
       "  2.2664921283721924,\n",
       "  2.24456524848938,\n",
       "  2.1441664695739746,\n",
       "  1.9960111379623413,\n",
       "  2.121722459793091,\n",
       "  1.9967527389526367,\n",
       "  2.2037293910980225,\n",
       "  2.0590593814849854,\n",
       "  2.0460407733917236,\n",
       "  2.3299636840820312,\n",
       "  2.039959192276001,\n",
       "  2.129502773284912,\n",
       "  2.097813844680786,\n",
       "  1.9935344457626343,\n",
       "  1.9703861474990845,\n",
       "  1.9447453022003174,\n",
       "  1.9872725009918213,\n",
       "  2.003488302230835,\n",
       "  2.1590940952301025,\n",
       "  2.1448023319244385,\n",
       "  2.040261745452881,\n",
       "  1.9896074533462524,\n",
       "  2.0418734550476074,\n",
       "  2.036210536956787,\n",
       "  2.1072769165039062,\n",
       "  2.3349063396453857,\n",
       "  2.039588212966919,\n",
       "  2.0638015270233154,\n",
       "  2.1332437992095947,\n",
       "  2.2612030506134033,\n",
       "  2.2157697677612305,\n",
       "  2.047605276107788,\n",
       "  2.051654577255249,\n",
       "  2.138521671295166,\n",
       "  2.125661611557007,\n",
       "  2.0717034339904785,\n",
       "  2.014848470687866,\n",
       "  2.0910089015960693,\n",
       "  2.158348560333252,\n",
       "  2.155005931854248,\n",
       "  2.104743242263794,\n",
       "  2.0024256706237793,\n",
       "  2.091506242752075,\n",
       "  2.2506940364837646,\n",
       "  2.268939256668091,\n",
       "  2.108170986175537,\n",
       "  2.2648262977600098,\n",
       "  2.036823272705078,\n",
       "  2.116239309310913,\n",
       "  1.9879039525985718,\n",
       "  2.210543394088745,\n",
       "  2.1400651931762695,\n",
       "  2.0027379989624023],\n",
       " [18.313610076904297,\n",
       "  14.200032234191895,\n",
       "  9.550165176391602,\n",
       "  5.946500778198242,\n",
       "  4.627837181091309,\n",
       "  3.799525737762451,\n",
       "  3.42391300201416,\n",
       "  3.37184739112854,\n",
       "  3.3160951137542725,\n",
       "  3.3658955097198486,\n",
       "  3.083564281463623,\n",
       "  3.189754009246826,\n",
       "  3.1185407638549805,\n",
       "  2.8586127758026123,\n",
       "  2.8124277591705322,\n",
       "  2.923114538192749,\n",
       "  2.721406936645508,\n",
       "  2.6956164836883545,\n",
       "  2.77988600730896,\n",
       "  2.7394680976867676,\n",
       "  2.5734827518463135,\n",
       "  2.6302907466888428,\n",
       "  2.6380414962768555,\n",
       "  2.5816571712493896,\n",
       "  2.5669665336608887,\n",
       "  2.5902769565582275,\n",
       "  2.5560224056243896,\n",
       "  2.5088083744049072,\n",
       "  2.6654019355773926,\n",
       "  2.677605628967285,\n",
       "  2.5601983070373535,\n",
       "  2.4700615406036377,\n",
       "  2.5369834899902344,\n",
       "  2.5631909370422363,\n",
       "  2.4992258548736572,\n",
       "  2.587263584136963,\n",
       "  2.4588732719421387,\n",
       "  2.6789796352386475,\n",
       "  2.469763994216919,\n",
       "  2.5832746028900146,\n",
       "  2.5002028942108154,\n",
       "  2.4477620124816895,\n",
       "  2.450289011001587,\n",
       "  2.534388542175293,\n",
       "  2.427748918533325,\n",
       "  2.456770896911621,\n",
       "  2.5098865032196045,\n",
       "  2.55106520652771,\n",
       "  2.4302127361297607,\n",
       "  2.5353140830993652,\n",
       "  2.3955464363098145,\n",
       "  2.357130765914917,\n",
       "  2.4485158920288086,\n",
       "  2.6366546154022217,\n",
       "  2.40443754196167,\n",
       "  2.4602842330932617,\n",
       "  2.396210193634033,\n",
       "  2.466653823852539,\n",
       "  2.4591119289398193,\n",
       "  2.3972394466400146,\n",
       "  2.5578455924987793,\n",
       "  2.392948627471924,\n",
       "  2.3982338905334473,\n",
       "  2.3965513706207275,\n",
       "  2.421274185180664,\n",
       "  2.553785800933838,\n",
       "  2.4118475914001465,\n",
       "  2.3475000858306885,\n",
       "  2.395348072052002,\n",
       "  2.3894197940826416,\n",
       "  2.5446677207946777,\n",
       "  2.478308916091919,\n",
       "  2.4198694229125977,\n",
       "  2.4605417251586914,\n",
       "  2.4292049407958984,\n",
       "  2.4416861534118652,\n",
       "  2.404874563217163,\n",
       "  2.4751226902008057,\n",
       "  2.4082062244415283,\n",
       "  2.5243794918060303],\n",
       " [17.683605194091797,\n",
       "  13.702820777893066,\n",
       "  9.07540225982666,\n",
       "  6.369760513305664,\n",
       "  4.87575101852417,\n",
       "  4.074582099914551,\n",
       "  3.703549861907959,\n",
       "  3.585679054260254,\n",
       "  3.4756081104278564,\n",
       "  3.2799501419067383,\n",
       "  3.1678524017333984,\n",
       "  3.126901388168335,\n",
       "  2.973881721496582,\n",
       "  2.8757331371307373,\n",
       "  2.8188657760620117,\n",
       "  2.818598747253418,\n",
       "  2.8122005462646484,\n",
       "  2.7646539211273193,\n",
       "  2.737078905105591,\n",
       "  2.7741451263427734,\n",
       "  2.744749069213867,\n",
       "  2.9847776889801025,\n",
       "  2.8883326053619385,\n",
       "  2.804370880126953,\n",
       "  2.7486119270324707,\n",
       "  2.7006452083587646,\n",
       "  2.720473289489746,\n",
       "  2.7824432849884033,\n",
       "  2.6850616931915283,\n",
       "  2.7860546112060547,\n",
       "  2.782816171646118,\n",
       "  2.598374366760254,\n",
       "  2.663850784301758,\n",
       "  2.678210496902466,\n",
       "  2.636141061782837,\n",
       "  2.619838237762451,\n",
       "  2.623908042907715,\n",
       "  2.6324124336242676,\n",
       "  2.656531572341919,\n",
       "  2.6149730682373047,\n",
       "  2.6434154510498047,\n",
       "  2.6546120643615723,\n",
       "  2.6158993244171143,\n",
       "  2.5513999462127686,\n",
       "  2.58640193939209,\n",
       "  2.638953447341919,\n",
       "  2.648749351501465,\n",
       "  2.5503695011138916,\n",
       "  2.567086935043335,\n",
       "  2.645737409591675,\n",
       "  2.6681952476501465,\n",
       "  2.5689404010772705,\n",
       "  2.522214889526367,\n",
       "  2.5250418186187744,\n",
       "  2.6038105487823486,\n",
       "  2.5015764236450195,\n",
       "  2.548133373260498,\n",
       "  2.5118813514709473,\n",
       "  2.5051424503326416,\n",
       "  2.546053647994995,\n",
       "  2.4815428256988525,\n",
       "  2.523160696029663,\n",
       "  2.524582862854004,\n",
       "  2.5143232345581055,\n",
       "  2.4715840816497803,\n",
       "  2.7086358070373535,\n",
       "  2.508385181427002,\n",
       "  2.5690951347351074,\n",
       "  2.512760639190674,\n",
       "  2.515557050704956,\n",
       "  2.4612877368927,\n",
       "  2.5388028621673584,\n",
       "  2.601546287536621,\n",
       "  2.521652936935425,\n",
       "  2.473487377166748,\n",
       "  2.5367703437805176,\n",
       "  2.463435649871826,\n",
       "  2.567577600479126,\n",
       "  2.591991424560547,\n",
       "  2.5923056602478027],\n",
       " [21.727304458618164,\n",
       "  18.860580444335938,\n",
       "  15.4247407913208,\n",
       "  11.257428169250488,\n",
       "  7.869423866271973,\n",
       "  6.2091827392578125,\n",
       "  5.0413079261779785,\n",
       "  4.228180885314941,\n",
       "  3.7612709999084473,\n",
       "  3.4636683464050293,\n",
       "  3.273984432220459,\n",
       "  3.1199328899383545,\n",
       "  3.052217960357666,\n",
       "  3.018230676651001,\n",
       "  2.8623194694519043,\n",
       "  2.8821663856506348,\n",
       "  2.827503204345703,\n",
       "  2.765721082687378,\n",
       "  2.738804578781128,\n",
       "  2.742699146270752,\n",
       "  2.7318167686462402,\n",
       "  2.749629497528076,\n",
       "  2.854719638824463,\n",
       "  2.616898536682129,\n",
       "  2.684494972229004,\n",
       "  2.6149260997772217,\n",
       "  2.5957157611846924,\n",
       "  2.5758261680603027,\n",
       "  2.6415324211120605,\n",
       "  2.5592989921569824,\n",
       "  2.6309890747070312,\n",
       "  2.635472297668457,\n",
       "  2.5037059783935547,\n",
       "  2.5289456844329834,\n",
       "  2.538311004638672,\n",
       "  2.4839351177215576,\n",
       "  2.5510780811309814,\n",
       "  2.5160818099975586,\n",
       "  2.491386651992798,\n",
       "  2.5165247917175293,\n",
       "  2.4657726287841797,\n",
       "  2.4664158821105957,\n",
       "  2.4605765342712402,\n",
       "  2.524995803833008,\n",
       "  2.4608399868011475,\n",
       "  2.6489601135253906,\n",
       "  2.434513568878174,\n",
       "  2.5199568271636963,\n",
       "  2.4920241832733154,\n",
       "  2.420940399169922,\n",
       "  2.442579746246338,\n",
       "  2.4371955394744873,\n",
       "  2.414278030395508,\n",
       "  2.417600393295288,\n",
       "  2.4655280113220215,\n",
       "  2.424564838409424,\n",
       "  2.4697585105895996,\n",
       "  2.394840955734253,\n",
       "  2.3767430782318115,\n",
       "  2.4625678062438965,\n",
       "  2.4135892391204834,\n",
       "  2.492842197418213,\n",
       "  2.374180793762207,\n",
       "  2.452538013458252,\n",
       "  2.4653098583221436,\n",
       "  2.465392827987671,\n",
       "  2.3885788917541504,\n",
       "  2.399034261703491,\n",
       "  2.3720791339874268,\n",
       "  2.420168161392212,\n",
       "  2.360846996307373,\n",
       "  2.4210317134857178,\n",
       "  2.417370319366455,\n",
       "  2.348738670349121,\n",
       "  2.386653423309326,\n",
       "  2.3871233463287354,\n",
       "  2.3860089778900146,\n",
       "  2.3491716384887695,\n",
       "  2.356261968612671,\n",
       "  2.392570972442627]]"
      ]
     },
     "execution_count": 37,
     "metadata": {},
     "output_type": "execute_result"
    }
   ],
   "source": [
    "all_history"
   ]
  },
  {
   "cell_type": "code",
   "execution_count": 39,
   "metadata": {},
   "outputs": [],
   "source": [
    "import matplotlib.pyplot as plt"
   ]
  },
  {
   "cell_type": "code",
   "execution_count": 45,
   "metadata": {},
   "outputs": [
    {
     "data": {
      "image/png": "[encoded data removed]",
      "text/plain": [
       "<Figure size 576x576 with 1 Axes>"
      ]
     },
     "metadata": {
      "needs_background": "light"
     },
     "output_type": "display_data"
    }
   ],
   "source": [
    "loss_vals = all_history[0]\n",
    "\n",
    "fig = plt.figure(figsize=(8, 8))\n",
    "epochs = range(1, len(loss_vals) + 1)\n",
    "plt.plot(epochs, all_history[0], '-', label=0)\n",
    "plt.plot(epochs, all_history[1], '--', label=1)\n",
    "plt.plot(epochs, all_history[2], '-', label=2)\n",
    "plt.plot(epochs, all_history[3], '--', label=3)\n",
    "\n",
    "plt.legend()\n",
    "plt.show()\n"
   ]
  },
  {
   "cell_type": "code",
   "execution_count": null,
   "metadata": {},
   "outputs": [],
   "source": []
  }
 ],
 "metadata": {
  "kernelspec": {
   "display_name": "Python 3",
   "language": "python",
   "name": "python3"
  },
  "language_info": {
   "codemirror_mode": {
    "name": "ipython",
    "version": 3
   },
   "file_extension": ".py",
   "mimetype": "text/x-python",
   "name": "python",
   "nbconvert_exporter": "python",
   "pygments_lexer": "ipython3",
   "version": "3.6.9"
  },
  "orig_nbformat": 4
 },
 "nbformat": 4,
 "nbformat_minor": 2
}
