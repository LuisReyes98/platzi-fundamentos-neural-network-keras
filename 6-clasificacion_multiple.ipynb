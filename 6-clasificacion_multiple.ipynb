{
 "cells": [
  {
   "cell_type": "markdown",
   "metadata": {},
   "source": [
    "# Resolviendo un problema de clasificación múltiple"
   ]
  },
  {
   "cell_type": "code",
   "execution_count": 1,
   "metadata": {},
   "outputs": [],
   "source": [
    "import numpy as np\n",
    "from tensorflow.keras import layers, models\n",
    "from tensorflow.keras.datasets import reuters\n"
   ]
  },
  {
   "cell_type": "code",
   "execution_count": 2,
   "metadata": {},
   "outputs": [],
   "source": [
    "(train_data, train_labels), (test_data, test_labels) = reuters.load_data(num_words=10_000)"
   ]
  },
  {
   "cell_type": "code",
   "execution_count": 3,
   "metadata": {},
   "outputs": [
    {
     "data": {
      "text/plain": [
       "(8982,)"
      ]
     },
     "execution_count": 3,
     "metadata": {},
     "output_type": "execute_result"
    }
   ],
   "source": [
    "train_data.shape"
   ]
  },
  {
   "cell_type": "code",
   "execution_count": 4,
   "metadata": {},
   "outputs": [
    {
     "data": {
      "text/plain": [
       "[1, 2, 2, 8, 43, 10, 447, 5, 25, 207]"
      ]
     },
     "execution_count": 4,
     "metadata": {},
     "output_type": "execute_result"
    }
   ],
   "source": [
    "train_data[0][:10]\n"
   ]
  },
  {
   "cell_type": "code",
   "execution_count": 5,
   "metadata": {},
   "outputs": [
    {
     "name": "stdout",
     "output_type": "stream",
     "text": [
      "None\n",
      "None\n",
      "None\n",
      "said\n",
      "as\n",
      "a\n",
      "result\n",
      "of\n",
      "its\n",
      "december\n",
      "acquisition\n",
      "of\n",
      "space\n",
      "co\n",
      "it\n",
      "expects\n",
      "earnings\n",
      "per\n",
      "share\n",
      "in\n",
      "1987\n",
      "of\n",
      "1\n",
      "15\n",
      "to\n",
      "1\n",
      "30\n",
      "dlrs\n",
      "per\n",
      "share\n",
      "up\n",
      "from\n",
      "70\n",
      "cts\n",
      "in\n",
      "1986\n",
      "the\n",
      "company\n",
      "said\n",
      "pretax\n",
      "net\n",
      "should\n",
      "rise\n",
      "to\n",
      "nine\n",
      "to\n",
      "10\n",
      "mln\n",
      "dlrs\n",
      "from\n",
      "six\n",
      "mln\n",
      "dlrs\n",
      "in\n",
      "1986\n",
      "and\n",
      "rental\n",
      "operation\n",
      "revenues\n",
      "to\n",
      "19\n",
      "to\n",
      "22\n",
      "mln\n",
      "dlrs\n",
      "from\n",
      "12\n",
      "5\n",
      "mln\n",
      "dlrs\n",
      "it\n",
      "said\n",
      "cash\n",
      "flow\n",
      "per\n",
      "share\n",
      "this\n",
      "year\n",
      "should\n",
      "be\n",
      "2\n",
      "50\n",
      "to\n",
      "three\n",
      "dlrs\n",
      "reuter\n",
      "3\n"
     ]
    }
   ],
   "source": [
    "word_index = reuters.get_word_index()\n",
    "word_index = dict([(value, key) for (key, value) in word_index.items()])\n",
    "for _ in train_data[0]:\n",
    "  # las primeras 3 palabras del word index son palabras reservadas\n",
    "  print(word_index.get(_ - 3))\n"
   ]
  },
  {
   "cell_type": "code",
   "execution_count": 6,
   "metadata": {},
   "outputs": [
    {
     "data": {
      "text/plain": [
       "3"
      ]
     },
     "execution_count": 6,
     "metadata": {},
     "output_type": "execute_result"
    }
   ],
   "source": [
    "train_labels[0]\n"
   ]
  },
  {
   "cell_type": "code",
   "execution_count": 7,
   "metadata": {},
   "outputs": [],
   "source": [
    "# debemos volver la lista del dataset\n",
    "# a tensores para que la red los pueda entender\n",
    "def vectorize(sequences, dim=10000):\n",
    "  results = np.zeros((len(sequences), dim))\n",
    "  for i, sequences in enumerate(sequences):\n",
    "    results[i, sequences] = 1\n",
    "  return results\n"
   ]
  },
  {
   "cell_type": "code",
   "execution_count": 8,
   "metadata": {},
   "outputs": [],
   "source": [
    "x_train = vectorize(train_data)\n",
    "x_test = vectorize(test_data)\n"
   ]
  },
  {
   "cell_type": "code",
   "execution_count": 9,
   "metadata": {},
   "outputs": [],
   "source": [
    "from tensorflow.keras.utils import to_categorical\n"
   ]
  },
  {
   "cell_type": "code",
   "execution_count": 10,
   "metadata": {},
   "outputs": [],
   "source": [
    "y_train = to_categorical(train_labels)\n",
    "y_test = to_categorical(test_labels)"
   ]
  },
  {
   "cell_type": "code",
   "execution_count": 11,
   "metadata": {},
   "outputs": [
    {
     "data": {
      "text/plain": [
       "array([0., 0., 0., 1., 0., 0., 0., 0., 0., 0., 0., 0., 0., 0., 0., 0., 0.,\n",
       "       0., 0., 0., 0., 0., 0., 0., 0., 0., 0., 0., 0., 0., 0., 0., 0., 0.,\n",
       "       0., 0., 0., 0., 0., 0., 0., 0., 0., 0., 0., 0.], dtype=float32)"
      ]
     },
     "execution_count": 11,
     "metadata": {},
     "output_type": "execute_result"
    }
   ],
   "source": [
    "y_train[0]"
   ]
  },
  {
   "cell_type": "code",
   "execution_count": 42,
   "metadata": {},
   "outputs": [],
   "source": [
    "model = models.Sequential()\n",
    "\n",
    "model.add(\n",
    "  layers.Dense(\n",
    "    64,\n",
    "    activation='relu',\n",
    "    input_shape=(10000,)\n",
    "  )\n",
    ")\n",
    "model.add(\n",
    "  layers.Dense(\n",
    "    64,\n",
    "    activation='relu'\n",
    "  )\n",
    ")\n",
    "\n",
    "\"\"\"\n",
    "No usamos sigmoid porque la relacion binaria de 0 a 1 no me permitiria\n",
    "realizar clasificacion multiple\n",
    "\n",
    "en su lugar la funcion sigmoid, con una relacion de -1 a 1 nos permite\n",
    "clasificar cada una de las posibles salidas sin importar la cantidad\n",
    "en base a la relacion de ser y no ser una categoria\n",
    "\"\"\"\n",
    "model.add(\n",
    "  layers.Dense(\n",
    "    46,\n",
    "    activation='softmax'\n",
    "  )\n",
    ")"
   ]
  },
  {
   "cell_type": "code",
   "execution_count": 43,
   "metadata": {},
   "outputs": [],
   "source": [
    "model.compile(\n",
    "  optimizer='rmsprop',\n",
    "  loss='categorical_crossentropy',\n",
    "  metrics=['accuracy']\n",
    ")"
   ]
  },
  {
   "cell_type": "code",
   "execution_count": 44,
   "metadata": {},
   "outputs": [],
   "source": [
    "x_val = x_train[:1000]\n",
    "partial_x_train = x_train[1000:]\n",
    "\n",
    "y_val = y_train[:1000]\n",
    "partial_y_train = y_train[1000:]"
   ]
  },
  {
   "cell_type": "markdown",
   "metadata": {},
   "source": [
    "# Entrenamiento del modelo de clasificación múltiple"
   ]
  },
  {
   "cell_type": "code",
   "execution_count": 45,
   "metadata": {},
   "outputs": [
    {
     "name": "stdout",
     "output_type": "stream",
     "text": [
      "Epoch 1/9\n",
      "16/16 [==============================] - 1s 20ms/step - loss: 2.6224 - accuracy: 0.5261 - val_loss: 1.7539 - val_accuracy: 0.6510\n",
      "Epoch 2/9\n",
      "16/16 [==============================] - 0s 10ms/step - loss: 1.4035 - accuracy: 0.7120 - val_loss: 1.3048 - val_accuracy: 0.7260\n",
      "Epoch 3/9\n",
      "16/16 [==============================] - 0s 10ms/step - loss: 1.0290 - accuracy: 0.7829 - val_loss: 1.1620 - val_accuracy: 0.7350\n",
      "Epoch 4/9\n",
      "16/16 [==============================] - 0s 9ms/step - loss: 0.8183 - accuracy: 0.8251 - val_loss: 1.0632 - val_accuracy: 0.7670\n",
      "Epoch 5/9\n",
      "16/16 [==============================] - 0s 10ms/step - loss: 0.6573 - accuracy: 0.8623 - val_loss: 1.0047 - val_accuracy: 0.7950\n",
      "Epoch 6/9\n",
      "16/16 [==============================] - 0s 10ms/step - loss: 0.5247 - accuracy: 0.8921 - val_loss: 0.9636 - val_accuracy: 0.7930\n",
      "Epoch 7/9\n",
      "16/16 [==============================] - 0s 11ms/step - loss: 0.4242 - accuracy: 0.9146 - val_loss: 0.9394 - val_accuracy: 0.8050\n",
      "Epoch 8/9\n",
      "16/16 [==============================] - 0s 9ms/step - loss: 0.3440 - accuracy: 0.9287 - val_loss: 0.9192 - val_accuracy: 0.8110\n",
      "Epoch 9/9\n",
      "16/16 [==============================] - 0s 8ms/step - loss: 0.2819 - accuracy: 0.9379 - val_loss: 0.9156 - val_accuracy: 0.8180\n"
     ]
    }
   ],
   "source": [
    "history = model.fit(partial_x_train, partial_y_train,\n",
    "          epochs=9,\n",
    "          batch_size=512,\n",
    "          validation_data=(x_val, y_val))"
   ]
  },
  {
   "cell_type": "code",
   "execution_count": 24,
   "metadata": {},
   "outputs": [],
   "source": [
    "import matplotlib.pyplot as plt"
   ]
  },
  {
   "cell_type": "code",
   "execution_count": 32,
   "metadata": {},
   "outputs": [],
   "source": [
    "def showHistoryError(history):\n",
    "  # print(history.history)\n",
    "  loss_vals = history.history['loss']\n",
    "  val_loss_vals = history.history['val_loss']\n",
    "\n",
    "  fig = plt.figure(figsize=(10,10))\n",
    "  epochs = range(1, len(loss_vals) + 1)\n",
    "  plt.plot(epochs, loss_vals, 'o', label='training')\n",
    "  plt.plot(epochs, val_loss_vals, '--', label='validation')\n",
    "  plt.legend()\n",
    "  plt.show()\n"
   ]
  },
  {
   "cell_type": "code",
   "execution_count": 38,
   "metadata": {},
   "outputs": [],
   "source": [
    "def showHistoryAccuracy(history):\n",
    "  # print(history.history)\n",
    "  loss_vals = history.history['accuracy']\n",
    "  val_loss_vals = history.history['val_accuracy']\n",
    "\n",
    "  fig = plt.figure(figsize=(10, 10))\n",
    "  epochs = range(1, len(loss_vals) + 1)\n",
    "  plt.plot(epochs, loss_vals, 'o', label='training')\n",
    "  plt.plot(epochs, val_loss_vals, '--', label='validation')\n",
    "  plt.legend()\n",
    "  plt.show()\n"
   ]
  },
  {
   "cell_type": "markdown",
   "metadata": {},
   "source": [
    "Como pudimos ver con 30 epocas el accuracy llegaba cerca de un 70% aun asi en la grafica vimos quen su accuracy mas alto se acercaba cerca de la epoca 9 por lo cual si reducimos las epocas a nuevo obtenemos un accuracy de 79%"
   ]
  },
  {
   "cell_type": "code",
   "execution_count": 46,
   "metadata": {},
   "outputs": [
    {
     "data": {
      "image/png": "[encoded data removed]",
      "text/plain": [
       "<Figure size 720x720 with 1 Axes>"
      ]
     },
     "metadata": {
      "needs_background": "light"
     },
     "output_type": "display_data"
    }
   ],
   "source": [
    "showHistoryError(history)"
   ]
  },
  {
   "cell_type": "code",
   "execution_count": 47,
   "metadata": {},
   "outputs": [
    {
     "data": {
      "image/png": "[encoded data removed]",
      "text/plain": [
       "<Figure size 720x720 with 1 Axes>"
      ]
     },
     "metadata": {
      "needs_background": "light"
     },
     "output_type": "display_data"
    }
   ],
   "source": [
    "showHistoryAccuracy(history)\n"
   ]
  },
  {
   "cell_type": "code",
   "execution_count": 48,
   "metadata": {},
   "outputs": [
    {
     "name": "stdout",
     "output_type": "stream",
     "text": [
      "71/71 [==============================] - 0s 2ms/step - loss: 0.9938 - accuracy: 0.7965\n"
     ]
    },
    {
     "data": {
      "text/plain": [
       "[0.9938479065895081, 0.7965271472930908]"
      ]
     },
     "execution_count": 48,
     "metadata": {},
     "output_type": "execute_result"
    }
   ],
   "source": [
    "model.evaluate(x_test, y_test)"
   ]
  },
  {
   "cell_type": "code",
   "execution_count": 49,
   "metadata": {},
   "outputs": [],
   "source": [
    "predictions = model.predict(x_test)"
   ]
  },
  {
   "cell_type": "code",
   "execution_count": 51,
   "metadata": {},
   "outputs": [
    {
     "data": {
      "text/plain": [
       "array([1.67345206e-04, 1.55764574e-05, 2.87372768e-05, 6.04861259e-01,\n",
       "       3.74642372e-01, 1.11591717e-05, 3.54083691e-04, 2.00046488e-05,\n",
       "       2.84682796e-03, 1.96661407e-04, 2.97402876e-05, 2.72694207e-03,\n",
       "       1.37614246e-04, 2.80215201e-04, 1.07184824e-04, 1.31370243e-05,\n",
       "       9.86127183e-04, 1.76914662e-04, 3.35355144e-04, 7.31746026e-04,\n",
       "       3.89294722e-03, 2.21205689e-03, 8.75770274e-05, 4.80809453e-04,\n",
       "       5.99385421e-05, 2.04518401e-05, 5.34237297e-05, 8.84936981e-06,\n",
       "       1.94211607e-04, 3.91075620e-04, 1.36908889e-03, 5.30986523e-04,\n",
       "       1.81790037e-05, 7.02402467e-05, 3.03994282e-04, 6.86966450e-06,\n",
       "       1.79511902e-04, 2.14263448e-04, 1.91144136e-04, 5.84495603e-04,\n",
       "       1.86115103e-05, 3.29673901e-04, 1.19877413e-05, 5.19032619e-05,\n",
       "       4.40962103e-05, 4.64126197e-06], dtype=float32)"
      ]
     },
     "execution_count": 51,
     "metadata": {},
     "output_type": "execute_result"
    }
   ],
   "source": [
    "predictions[0]"
   ]
  },
  {
   "cell_type": "code",
   "execution_count": 52,
   "metadata": {},
   "outputs": [
    {
     "data": {
      "text/plain": [
       "1.0"
      ]
     },
     "execution_count": 52,
     "metadata": {},
     "output_type": "execute_result"
    }
   ],
   "source": [
    "np.sum(predictions[0])"
   ]
  },
  {
   "cell_type": "code",
   "execution_count": 53,
   "metadata": {},
   "outputs": [
    {
     "data": {
      "text/plain": [
       "3"
      ]
     },
     "execution_count": 53,
     "metadata": {},
     "output_type": "execute_result"
    }
   ],
   "source": [
    "# el valor predicho es el que posee el valor mas alto es decir\n",
    "# el modelo aprendio que ese es el punto al que mas se acerca el valor\n",
    "np.argmax(predictions[0])\n"
   ]
  },
  {
   "cell_type": "markdown",
   "metadata": {},
   "source": [
    "## Reto\n",
    "\n",
    "utilizar dropout, regularizacion, reduccion de la red y las practicas aprendidas para mejorar la red"
   ]
  },
  {
   "cell_type": "code",
   "execution_count": null,
   "metadata": {},
   "outputs": [],
   "source": []
  }
 ],
 "metadata": {
  "kernelspec": {
   "display_name": "Python 3",
   "language": "python",
   "name": "python3"
  },
  "language_info": {
   "codemirror_mode": {
    "name": "ipython",
    "version": 3
   },
   "file_extension": ".py",
   "mimetype": "text/x-python",
   "name": "python",
   "nbconvert_exporter": "python",
   "pygments_lexer": "ipython3",
   "version": "3.6.9"
  },
  "orig_nbformat": 4
 },
 "nbformat": 4,
 "nbformat_minor": 2
}
